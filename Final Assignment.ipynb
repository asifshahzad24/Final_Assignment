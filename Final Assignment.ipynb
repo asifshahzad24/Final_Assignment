{
 "cells": [
  {
   "cell_type": "markdown",
   "metadata": {},
   "source": [
    "# Final Assignment\n",
    "\n"
   ]
  },
  {
   "cell_type": "markdown",
   "metadata": {},
   "source": [
    "# Quarter 1\n"
   ]
  },
  {
   "cell_type": "markdown",
   "metadata": {},
   "source": [
    "# AI-101 Fundamentals of Programming using Python\n"
   ]
  },
  {
   "cell_type": "markdown",
   "metadata": {},
   "source": [
    "# Name: Asif Shahzad\n"
   ]
  },
  {
   "cell_type": "markdown",
   "metadata": {},
   "source": [
    "# Roll No: AIC001098\n"
   ]
  },
  {
   "cell_type": "markdown",
   "metadata": {},
   "source": [
    "center: Sylani Head office center\n"
   ]
  },
  {
   "cell_type": "markdown",
   "metadata": {},
   "source": [
    "Day/Time: Saturday - 3:30 PM to 6:30 PM\n"
   ]
  },
  {
   "cell_type": "markdown",
   "metadata": {},
   "source": [
    "Instructor Name: Sir. Muhammad Qasim\n",
    "Batch 1"
   ]
  },
  {
   "cell_type": "markdown",
   "metadata": {},
   "source": [
    "# 1. Calculate Area of a Cirle:"
   ]
  },
  {
   "cell_type": "code",
   "execution_count": 5,
   "metadata": {},
   "outputs": [
    {
     "name": "stdout",
     "output_type": "stream",
     "text": [
      "Enter the Radius Of Circle: 0.5\n",
      "Area of cirlce is :  0.7853981635\n"
     ]
    }
   ],
   "source": [
    "area = float(input(\"Enter the Radius Of Circle: \"))\n",
    "print(\"Area of cirlce is : \", 3.141592654 * area * area)"
   ]
  },
  {
   "cell_type": "markdown",
   "metadata": {},
   "source": [
    "# 2. Check Number either positive, negative or zero:"
   ]
  },
  {
   "cell_type": "code",
   "execution_count": 6,
   "metadata": {},
   "outputs": [
    {
     "name": "stdout",
     "output_type": "stream",
     "text": [
      "Enter the Number: -1\n",
      "Negative Number Entered\n"
     ]
    }
   ],
   "source": [
    "number = int(input(\"Enter the Number: \"))\n",
    "if number < 0:\n",
    "    print(\"Negative Number Entered\")\n",
    "elif number > 0:\n",
    "    print(\"Positive Number Entered\")\n",
    "else:\n",
    "    print(\"Zero Number Entered\")"
   ]
  },
  {
   "cell_type": "code",
   "execution_count": 7,
   "metadata": {},
   "outputs": [
    {
     "name": "stdout",
     "output_type": "stream",
     "text": [
      "Enter the Number: 0\n",
      "Zero Number Entered\n"
     ]
    }
   ],
   "source": [
    "number = int(input(\"Enter the Number: \"))\n",
    "if number < 0:\n",
    "    print(\"Negative Number Entered\")\n",
    "elif number > 0:\n",
    "    print(\"Positive Number Entered\")\n",
    "else:\n",
    "    print(\"Zero Number Entered\")"
   ]
  },
  {
   "cell_type": "code",
   "execution_count": 8,
   "metadata": {},
   "outputs": [
    {
     "name": "stdout",
     "output_type": "stream",
     "text": [
      "Enter the Number: 1\n",
      "Positive Number Entered\n"
     ]
    }
   ],
   "source": [
    "number = int(input(\"Enter the Number: \"))\n",
    "if number < 0:\n",
    "    print(\"Negative Number Entered\")\n",
    "elif number > 0:\n",
    "    print(\"Positive Number Entered\")\n",
    "else:\n",
    "    print(\"Zero Number Entered\")"
   ]
  },
  {
   "cell_type": "markdown",
   "metadata": {},
   "source": [
    "# 3. Divisibility Check of two numbers:"
   ]
  },
  {
   "cell_type": "code",
   "execution_count": 11,
   "metadata": {},
   "outputs": [
    {
     "name": "stdout",
     "output_type": "stream",
     "text": [
      "Enter Numerator: 4\n",
      "Enter Denominator: 2\n",
      "Number 4 is Completely Divisible by 2\n"
     ]
    }
   ],
   "source": [
    "numerator = int(input(\"Enter Numerator: \"))\n",
    "denominator = int(input(\"Enter Denominator: \"))\n",
    "if numerator % denominator  == 0:\n",
    "    print(\"Number\", numerator , \"is Completely Divisible by\", denominator)\n",
    "else:\n",
    "     print(\"Number\", numerator , \"is not Completely Divisible by\", denominator)\n",
    "        "
   ]
  },
  {
   "cell_type": "code",
   "execution_count": 12,
   "metadata": {},
   "outputs": [
    {
     "name": "stdout",
     "output_type": "stream",
     "text": [
      "Enter Numerator: 7\n",
      "Enter Denominator: 4\n",
      "Number 7 is not Completely Divisible by 4\n"
     ]
    }
   ],
   "source": [
    "numerator = int(input(\"Enter Numerator: \"))\n",
    "denominator = int(input(\"Enter Denominator: \"))\n",
    "if numerator % denominator  == 0:\n",
    "    print(\"Number\", numerator , \"is Completely Divisible by\", denominator)\n",
    "else:\n",
    "     print(\"Number\", numerator , \"is not Completely Divisible by\", denominator)"
   ]
  },
  {
   "cell_type": "markdown",
   "metadata": {},
   "source": [
    "# 4. Days Calculator:\n"
   ]
  },
  {
   "cell_type": "code",
   "execution_count": 14,
   "metadata": {},
   "outputs": [
    {
     "name": "stdout",
     "output_type": "stream",
     "text": [
      "Enter a date in (dd/mm/yy) Format: 01/06/2019\n",
      "Enter a date in (dd/mm/yy) Format: 15/06/2019\n",
      "There are 14 days in Between 01/06/2019 and 15/06/2019\n"
     ]
    }
   ],
   "source": [
    "from datetime import datetime\n",
    "date_format = \"%d/%m/%Y\"\n",
    "first_date = input(\"Enter a date in (dd/mm/yy) Format: \")\n",
    "last_date = input(\"Enter a date in (dd/mm/yy) Format: \")\n",
    "a = datetime.strptime( first_date , date_format)\n",
    "b = datetime.strptime( last_date , date_format)\n",
    "delta = b - a\n",
    "print (\"There are\", delta.days, \"days in Between\", first_date , \"and\" , last_date)"
   ]
  },
  {
   "cell_type": "markdown",
   "metadata": {},
   "source": [
    "# 5. Calculate volume of Sphere:"
   ]
  },
  {
   "cell_type": "code",
   "execution_count": 15,
   "metadata": {},
   "outputs": [
    {
     "name": "stdout",
     "output_type": "stream",
     "text": [
      "Enter the Radius of Sphere: 1\n",
      "Volume of the Sphere with radius 1 is: 4.1887902053333335\n"
     ]
    }
   ],
   "source": [
    "radius = int(input(\"Enter the Radius of Sphere: \"))\n",
    "print(\"Volume of the Sphere with radius\" , radius , \"is:\", 4 / 3 * 3.141592654 * radius * radius * radius)"
   ]
  },
  {
   "cell_type": "markdown",
   "metadata": {},
   "source": [
    "# 6. Copy String N Times:"
   ]
  },
  {
   "cell_type": "code",
   "execution_count": 17,
   "metadata": {},
   "outputs": [
    {
     "name": "stdout",
     "output_type": "stream",
     "text": [
      "Enter string: asif\n",
      "How many Copies of String you need: 5\n",
      "5 Copies of asif are : asifasifasifasifasif\n"
     ]
    }
   ],
   "source": [
    "name = str(input(\"Enter string: \"))\n",
    "number = int(input(\"How many Copies of String you need: \"))\n",
    "if number > 0:\n",
    "    print(number,\"Copies of\", name , \"are :\" , number * name)        \n",
    "else:\n",
    "    print(\"you Entered Invalid number of Copies:\")"
   ]
  },
  {
   "cell_type": "markdown",
   "metadata": {},
   "source": [
    "# 7. Checking If Number is Even or Odd:"
   ]
  },
  {
   "cell_type": "code",
   "execution_count": 18,
   "metadata": {},
   "outputs": [
    {
     "name": "stdout",
     "output_type": "stream",
     "text": [
      "Enter Number: 4\n",
      "4 is Even\n"
     ]
    }
   ],
   "source": [
    "number = int(input(\"Enter Number: \"))\n",
    "if number % 2 == 0:\n",
    "    print(number, \"is Even\")\n",
    "else:\n",
    "    print(number, \"is Odd\")"
   ]
  },
  {
   "cell_type": "code",
   "execution_count": 19,
   "metadata": {},
   "outputs": [
    {
     "name": "stdout",
     "output_type": "stream",
     "text": [
      "Enter Number: 9\n",
      "9 is Odd\n"
     ]
    }
   ],
   "source": [
    "number = int(input(\"Enter Number: \"))\n",
    "if number % 2 == 0:\n",
    "    print(number, \"is Even\")\n",
    "else:\n",
    "    print(number, \"is Odd\")"
   ]
  },
  {
   "cell_type": "markdown",
   "metadata": {},
   "source": [
    "# 8. Vowel Tester:"
   ]
  },
  {
   "cell_type": "code",
   "execution_count": 22,
   "metadata": {},
   "outputs": [
    {
     "name": "stdout",
     "output_type": "stream",
     "text": [
      "Enter Character: A\n",
      "Letter A is Vowel\n"
     ]
    }
   ],
   "source": [
    "charactor = input(\"Enter Character: \")\n",
    "tester = charactor.lower()\n",
    "if tester == \"a\" or tester == \"e\" or tester == \"i\" or tester == \"o\" or tester == \"u\" :\n",
    "    print(\"Letter\", charactor, \"is Vowel\")\n",
    "else:\n",
    "    print(\"Letter\", charactor, \"is not Vowel\")"
   ]
  },
  {
   "cell_type": "code",
   "execution_count": 23,
   "metadata": {},
   "outputs": [
    {
     "name": "stdout",
     "output_type": "stream",
     "text": [
      "Enter Character: e\n",
      "Letter e is Vowel\n"
     ]
    }
   ],
   "source": [
    "charactor = input(\"Enter Character: \")\n",
    "tester = charactor.lower()\n",
    "if tester == \"a\" or tester == \"e\" or tester == \"i\" or tester == \"o\" or tester == \"u\" :\n",
    "    print(\"Letter\", charactor, \"is Vowel\")\n",
    "else:\n",
    "    print(\"Letter\", charactor, \"is not Vowel\")"
   ]
  },
  {
   "cell_type": "code",
   "execution_count": 24,
   "metadata": {},
   "outputs": [
    {
     "name": "stdout",
     "output_type": "stream",
     "text": [
      "Enter Character: N\n",
      "Letter N is not Vowel\n"
     ]
    }
   ],
   "source": [
    "charactor = input(\"Enter Character: \")\n",
    "tester = charactor.lower()\n",
    "if tester == \"a\" or tester == \"e\" or tester == \"i\" or tester == \"o\" or tester == \"u\" :\n",
    "    print(\"Letter\", charactor, \"is Vowel\")\n",
    "else:\n",
    "    print(\"Letter\", charactor, \"is not Vowel\")"
   ]
  },
  {
   "cell_type": "markdown",
   "metadata": {},
   "source": [
    "# 9. Triangle Area:"
   ]
  },
  {
   "cell_type": "code",
   "execution_count": 26,
   "metadata": {},
   "outputs": [
    {
     "name": "stdout",
     "output_type": "stream",
     "text": [
      "Enter Magnitude of Triangle Base:4\n",
      "Enter Magnitude of Triangle Height:4\n",
      "Area of a Triangle with Height 4 and Base 4  is 8.0\n"
     ]
    }
   ],
   "source": [
    "base = int(input(\"Enter Magnitude of Triangle Base:\"))\n",
    "height = int(input(\"Enter Magnitude of Triangle Height:\"))\n",
    "print(\"Area of a Triangle with Height\",height,\"and Base\",base,\" is\", base * height / 2)"
   ]
  },
  {
   "cell_type": "markdown",
   "metadata": {},
   "source": [
    "# 10. Calculate Interest:"
   ]
  },
  {
   "cell_type": "code",
   "execution_count": 27,
   "metadata": {},
   "outputs": [
    {
     "name": "stdout",
     "output_type": "stream",
     "text": [
      "Please Enter Principle Amount: 10000\n",
      "Please Enter rate of interest in %: 0.1\n",
      "Enter Number of years for Investment: 5\n",
      "After 5 years your principal amount 10000 over an interest rate of 0.1 % will be 1610.51\n"
     ]
    }
   ],
   "source": [
    "amount = int(input(\"Please Enter Principle Amount: \"))\n",
    "interest_rate = float(input(\"Please Enter rate of interest in %: \"))\n",
    "investment = int(input(\"Enter Number of years for Investment: \"))\n",
    "increament = 0\n",
    "result = amount * interest_rate\n",
    "while increament < investment:\n",
    "    result += result * interest_rate \n",
    "    increament += 1\n",
    "print(\"After\",investment,\"years your principal amount\", amount,\"over an interest rate of\", interest_rate,\"% will be\", result)"
   ]
  },
  {
   "cell_type": "markdown",
   "metadata": {},
   "source": [
    "# 11. Euclidean Distance:"
   ]
  },
  {
   "cell_type": "code",
   "execution_count": 30,
   "metadata": {},
   "outputs": [
    {
     "name": "stdout",
     "output_type": "stream",
     "text": [
      "Enter Co-ordinate for X1: 2\n",
      "Enter Co-ordinate for X2: 4\n",
      "Enter Co-ordinate for Y1: 4\n",
      "Enter Co-ordinate for Y2: 4\n",
      "Distance Between Points ( 2 , 4 ) and ( 4 , 4 ) is:  2.0\n"
     ]
    }
   ],
   "source": [
    "import math\n",
    "x1 = int(input(\"Enter Co-ordinate for X1: \"))\n",
    "x2 = int(input(\"Enter Co-ordinate for X2: \"))\n",
    "y1 = int(input(\"Enter Co-ordinate for Y1: \"))\n",
    "y2 = int(input(\"Enter Co-ordinate for Y2: \"))\n",
    "calculate = (x1 - x2)*(x1 - x2) + (y1 - y2)*(y1 - y1)\n",
    "result = math.sqrt(calculate)\n",
    "print(\"Distance Between Points (\", x1 , \",\" , y1 , \") and (\" , x2 , \",\" , y2 , \") is: \", result)"
   ]
  },
  {
   "cell_type": "markdown",
   "metadata": {},
   "source": [
    "# 12. Feet to Centimeter Converter:"
   ]
  },
  {
   "cell_type": "code",
   "execution_count": 29,
   "metadata": {},
   "outputs": [
    {
     "name": "stdout",
     "output_type": "stream",
     "text": [
      "Enter Height in Feet: 5\n",
      "There are 152.4 cm in 5.0 ft\n"
     ]
    }
   ],
   "source": [
    "feet = float(input(\"Enter Height in Feet: \"))\n",
    "print(\"There are\", feet * 30.48,\"cm\",\"in\",feet,\"ft\" )"
   ]
  },
  {
   "cell_type": "markdown",
   "metadata": {},
   "source": [
    "# 13. BMI Calculator:"
   ]
  },
  {
   "cell_type": "code",
   "execution_count": 33,
   "metadata": {},
   "outputs": [
    {
     "name": "stdout",
     "output_type": "stream",
     "text": [
      "Enter Your Height in CM: 180\n",
      "Enter Your Weight in KG: 75\n",
      "Your BMI is:  23.15\n"
     ]
    }
   ],
   "source": [
    "height = float(input(\"Enter Your Height in CM: \"))\n",
    "weight = float(input(\"Enter Your Weight in KG: \"))\n",
    "result = height * 0.01\n",
    "print(\"Your BMI is: \", round(weight / (result * result), 2))"
   ]
  },
  {
   "cell_type": "markdown",
   "metadata": {},
   "source": [
    "# 14. Sum of N Positive Integers:"
   ]
  },
  {
   "cell_type": "code",
   "execution_count": 35,
   "metadata": {},
   "outputs": [
    {
     "name": "stdout",
     "output_type": "stream",
     "text": [
      "Enter value of n: 5\n",
      "Sum of positive integer till 5  is  15\n"
     ]
    }
   ],
   "source": [
    "number = int(input(\"Enter value of n: \"))\n",
    "\n",
    "sum = 0\n",
    "for i in range(number+1):\n",
    "    sum += i\n",
    "\n",
    "print(\"Sum of positive integer till\" , number ,\" is \", sum)\n",
    "\n"
   ]
  },
  {
   "cell_type": "markdown",
   "metadata": {},
   "source": [
    "# 15. Digits Sum of Numbers:"
   ]
  },
  {
   "cell_type": "code",
   "execution_count": 36,
   "metadata": {},
   "outputs": [
    {
     "name": "stdout",
     "output_type": "stream",
     "text": [
      "Enter a Number: 15\n",
      "Sum of 1+5 is:  6\n"
     ]
    }
   ],
   "source": [
    "number = str(input(\"Enter a Number: \"))\n",
    "digit = 0 \n",
    "for x in number:\n",
    "    digit += int(x)\n",
    "print(\"Sum of\", '+'.join(map(str,number)) ,\"is: \",digit)"
   ]
  },
  {
   "cell_type": "markdown",
   "metadata": {},
   "source": [
    "# 16. Decimal To Binary Converter:"
   ]
  },
  {
   "cell_type": "code",
   "execution_count": 37,
   "metadata": {},
   "outputs": [
    {
     "name": "stdout",
     "output_type": "stream",
     "text": [
      "Enter a Decimal number: 5\n",
      "Binary Reperesentation of 5 is:  101\n"
     ]
    }
   ],
   "source": [
    "number = int(input(\"Enter a Decimal number: \"))\n",
    "binary = bin(number)\n",
    "print(\"Binary Reperesentation of\",number,\"is: \", binary[2:])"
   ]
  },
  {
   "cell_type": "code",
   "execution_count": 38,
   "metadata": {},
   "outputs": [
    {
     "name": "stdout",
     "output_type": "stream",
     "text": [
      "Enter a Decimal number: 32\n",
      "Binary Reperesentation of 32 is:  100000\n"
     ]
    }
   ],
   "source": [
    "number = int(input(\"Enter a Decimal number: \"))\n",
    "binary = bin(number)\n",
    "print(\"Binary Reperesentation of\",number,\"is: \", binary[2:])"
   ]
  },
  {
   "cell_type": "markdown",
   "metadata": {},
   "source": [
    "# 17. Binary To Decimal Converter:"
   ]
  },
  {
   "cell_type": "code",
   "execution_count": 39,
   "metadata": {},
   "outputs": [
    {
     "name": "stdout",
     "output_type": "stream",
     "text": [
      "Enter a Binary number: 1101\n",
      "Decimal Reperesentation of 1101 is:  13\n"
     ]
    }
   ],
   "source": [
    "binary = input(\"Enter a Binary number: \")\n",
    "number = int(binary,2)\n",
    "print(\"Decimal Reperesentation of\", binary,\"is: \", number)"
   ]
  },
  {
   "cell_type": "code",
   "execution_count": 40,
   "metadata": {},
   "outputs": [
    {
     "name": "stdout",
     "output_type": "stream",
     "text": [
      "Enter a Binary number: 1001\n",
      "Decimal Reperesentation of 1001 is:  9\n"
     ]
    }
   ],
   "source": [
    "binary = input(\"Enter a Binary number: \")\n",
    "number = int(binary,2)\n",
    "print(\"Decimal Reperesentation of\", binary,\"is: \", number)"
   ]
  },
  {
   "cell_type": "markdown",
   "metadata": {},
   "source": [
    "# 18. Vowel and Consonants Counter:"
   ]
  },
  {
   "cell_type": "code",
   "execution_count": 41,
   "metadata": {},
   "outputs": [
    {
     "name": "stdout",
     "output_type": "stream",
     "text": [
      "Enter Text: QuickBrownFoxJumpsovertheDog\n",
      "Vowels:  9\n",
      "Consonants:  19\n"
     ]
    }
   ],
   "source": [
    "text = input(\"Enter Text: \")\n",
    "result = text.lower()\n",
    "vowel_counter = 0\n",
    "consonant_counter = 0\n",
    "for x in result:\n",
    "    if x == \"a\" or x == \"e\" or x == \"i\" or x == \"o\" or x == \"u\":\n",
    "        vowel_counter += 1\n",
    "    else:\n",
    "        consonant_counter += 1\n",
    "print(\"Vowels: \",vowel_counter)\n",
    "print(\"Consonants: \",consonant_counter)"
   ]
  },
  {
   "cell_type": "markdown",
   "metadata": {},
   "source": [
    "# 19. Palindrome Tester:"
   ]
  },
  {
   "cell_type": "code",
   "execution_count": 42,
   "metadata": {},
   "outputs": [
    {
     "name": "stdout",
     "output_type": "stream",
     "text": [
      "Enter Text: AHA\n",
      "Text AHA is Palindrome. \n"
     ]
    }
   ],
   "source": [
    "text = input(\"Enter Text: \")\n",
    "if text == text[::-1]:\n",
    "    print(\"Text\",text,\"is Palindrome. \")\n",
    "else:\n",
    "    print(\"Text \",text,\"is Not Palindrome. \")"
   ]
  },
  {
   "cell_type": "code",
   "execution_count": 43,
   "metadata": {},
   "outputs": [
    {
     "name": "stdout",
     "output_type": "stream",
     "text": [
      "Enter Text: Hello\n",
      "Text  Hello is Not Palindrome. \n"
     ]
    }
   ],
   "source": [
    "text = input(\"Enter Text: \")\n",
    "if text == text[::-1]:\n",
    "    print(\"Text\",text,\"is Palindrome. \")\n",
    "else:\n",
    "    print(\"Text \",text,\"is Not Palindrome. \")"
   ]
  },
  {
   "cell_type": "markdown",
   "metadata": {},
   "source": [
    "# 20. Count Alphabets,Numbers and Special Characters:"
   ]
  },
  {
   "cell_type": "code",
   "execution_count": 45,
   "metadata": {},
   "outputs": [
    {
     "name": "stdout",
     "output_type": "stream",
     "text": [
      "Enter Text: python 3.2\n",
      "Alphabets:           6\n",
      "Numbers:             2\n",
      "Special Characters:  1\n",
      "Space:               1\n"
     ]
    }
   ],
   "source": [
    "text = input(\"Enter Text: \")\n",
    "alphabet = 0\n",
    "number = 0\n",
    "special_character = 0\n",
    "space = 0\n",
    "for x in text:\n",
    "    if int(ord(x)) >= 65 and int(ord(x)) <= 122:\n",
    "        alphabet += 1\n",
    "    elif int(ord(x)) >= 48 and int(ord(x)) <= 57:\n",
    "        number += 1\n",
    "    elif x == \" \":\n",
    "        space += 1\n",
    "    else:\n",
    "        special_character += 1\n",
    "print(\"Alphabets:          \",alphabet)\n",
    "print(\"Numbers:            \",number)\n",
    "print(\"Special Characters: \",special_character)\n",
    "print(\"Space:              \",space)"
   ]
  },
  {
   "cell_type": "markdown",
   "metadata": {},
   "source": [
    "# 21. Pattern 1:"
   ]
  },
  {
   "cell_type": "code",
   "execution_count": 69,
   "metadata": {},
   "outputs": [
    {
     "name": "stdout",
     "output_type": "stream",
     "text": [
      "* \r\n",
      "* * \r\n",
      "* * * \r\n",
      "* * * * \r\n",
      "* * * * * \r\n",
      "* * * * \r\n",
      "* * * \r\n",
      "* * \r\n",
      "* \r\n",
      "\r\n"
     ]
    }
   ],
   "source": [
    "number = 5\n",
    "number = int (number)\n",
    "for i in range (0, number):\n",
    "    for j in range(0, i + 1):\n",
    "        print(\"*\", end=' ')\n",
    "    print(\"\\r\")\n",
    "    \n",
    "for i in range (number, 0, -1):\n",
    "    for j in range(0, i -1):\n",
    "        print(\"*\", end=' ')\n",
    "    print(\"\\r\")"
   ]
  },
  {
   "cell_type": "markdown",
   "metadata": {},
   "source": [
    "# 22. Pattern 2:"
   ]
  },
  {
   "cell_type": "code",
   "execution_count": 72,
   "metadata": {},
   "outputs": [
    {
     "name": "stdout",
     "output_type": "stream",
     "text": [
      "1 \r\n",
      "1 2 \r\n",
      "1 2 3 \r\n",
      "1 2 3 4 \r\n",
      "1 2 3 4 5 \r\n",
      "1 2 3 4 \r\n",
      "1 2 3 \r\n",
      "1 2 \r\n",
      "1 \r\n",
      "\r\n"
     ]
    }
   ],
   "source": [
    "number = 6\n",
    "number = int (number)\n",
    "for i in range (1, number):\n",
    "    for j in range(1, i + 1):\n",
    "        print(j, end=' ')\n",
    "    print(\"\\r\")\n",
    "    \n",
    "for i in range (number, 1, -1):\n",
    "    for j in range(1, i -1):\n",
    "        print(j, end=' ')\n",
    "    print(\"\\r\")"
   ]
  },
  {
   "cell_type": "markdown",
   "metadata": {},
   "source": [
    "# 23. Pattern 3:"
   ]
  },
  {
   "cell_type": "code",
   "execution_count": 75,
   "metadata": {},
   "outputs": [
    {
     "name": "stdout",
     "output_type": "stream",
     "text": [
      "\n",
      "1\n",
      "22\n",
      "333\n",
      "4444\n",
      "55555\n",
      "666666\n",
      "7777777\n",
      "88888888\n",
      "999999999\n"
     ]
    }
   ],
   "source": [
    "for i in range(10):\n",
    "    for f in range(i):\n",
    "        print(i, end = '')\n",
    "    print(\"\")"
   ]
  },
  {
   "cell_type": "code",
   "execution_count": null,
   "metadata": {},
   "outputs": [],
   "source": []
  }
 ],
 "metadata": {
  "kernelspec": {
   "display_name": "Python 3",
   "language": "python",
   "name": "python3"
  },
  "language_info": {
   "codemirror_mode": {
    "name": "ipython",
    "version": 3
   },
   "file_extension": ".py",
   "mimetype": "text/x-python",
   "name": "python",
   "nbconvert_exporter": "python",
   "pygments_lexer": "ipython3",
   "version": "3.7.3"
  }
 },
 "nbformat": 4,
 "nbformat_minor": 2
}
